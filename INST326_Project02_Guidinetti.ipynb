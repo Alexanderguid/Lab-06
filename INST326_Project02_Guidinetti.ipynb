{
 "cells": [
  {
   "cell_type": "markdown",
   "id": "bc00dbc1",
   "metadata": {},
   "source": [
    "### Project 02: Create a GUI Notebook Program"
   ]
  },
  {
   "cell_type": "markdown",
   "id": "b3f87ffb",
   "metadata": {},
   "source": [
    "Alexander Guidinetti 03/31/2024"
   ]
  },
  {
   "cell_type": "markdown",
   "id": "62110c98",
   "metadata": {},
   "source": [
    "Project 2 will adapt the procedural code we have been working on in INST326_SimpleGUI_Note_Form_IO.ipynb to create an OOP version of the program using three classes.\n",
    "\n",
    "    A Notebook or MainWindow class\n",
    "    A Form or TopWindow class\n",
    "    A Note class\n",
    "\n",
    "The MainWindow class is a subclass of Tkinter’s tk.Tk class and thus inherits its attributes and methods, while allowing us to customize the new window objects to our needs. These new window objects will represent “notebooks” or collections of notes, and allow us to work with those notes. (I have named it MainWindow because this class definition could be used to create any kind of main window in Tkinter. We are using it to represent notebooks in this application, but you might use it for other purposes in onther applications.)\n"
   ]
  },
  {
   "cell_type": "markdown",
   "id": "67692272",
   "metadata": {},
   "source": [
    "The TopWindow class creates a new top window in Tkinter, which is essentially a form for entering the title, text, links, and tags for our note. When we submit the note, this “form” object has a method that creates the note’s metadata and a new Note object. That note object is appended to the list of all notes, which is an attribute of the notebook (MainWindow) class.\n",
    "The Note class creates note objects that contain the  title, text, links, tags, and metadata for each note.\n",
    "\n",
    "For Project 02 you will:  \n",
    "\n",
    "    1. Create one notebook or MainWindow object  \n",
    "    2. Create several (at least 3) ‘real’ notes for your final submission. By ‘real’ I mean actual notes about python that are useful to you. Print them in the cell at the bottom of the notebook.\n",
    "    3. Save those notes to a single .txt, .csv, or .json file (your choice of format).  \n",
    "    4. Retrieve those notes and \n",
    "    5. Display representations of them as either labels or buttons in the  main window (remember how we displayed cards in project 01). These representations are not whole notes. Rather, they are object representations of the notes.  \n",
    "    6. When they are clicked the whole note pops up in a new window - either the form window or a ‘read-only’ version of the form window.\n",
    "\n"
   ]
  },
  {
   "cell_type": "markdown",
   "id": "cd7630c0",
   "metadata": {},
   "source": [
    "#### Complete your code in the cell below"
   ]
  },
  {
   "cell_type": "markdown",
   "id": "50f0a965",
   "metadata": {},
   "source": [
    "The code cell below contains the imports you will need; the top level structure for the three classes to get you started; and the execution code at the bottom. "
   ]
  },
  {
   "cell_type": "code",
   "execution_count": 5,
   "id": "57954c28",
   "metadata": {},
   "outputs": [
    {
     "name": "stdout",
     "output_type": "stream",
     "text": [
      "[{'title': 'Window Close Events', 'text': 'Makke sure you handle window close events properly to ensure a smooth user experience.', 'created_at': '2024-03-31T22:19:04.123697'}]\n",
      "[{'title': 'Code Reusability', 'text': 'Code with reusability in mind by creating components that can be easily added into different parts of the application.', 'created_at': '2024-03-31T22:18:16.957038'}]\n",
      "[{'title': 'Class Responsibility', 'text': 'Assign clear responsibilities to each class, ensuring that they handle specific tasks or data.', 'created_at': '2024-03-31T22:17:20.496847'}]\n"
     ]
    }
   ],
   "source": [
    "# imports\n",
    "import tkinter as tk\n",
    "from tkinter import filedialog\n",
    "import datetime\n",
    "import json\n",
    "\n",
    "# The MainWindow class creates a custom GUI window based on the tkinter window (tk.Tk)\n",
    "# It has an __init__() method, and three additional methods (new_note(), open_notebook(), and save_notebook())\n",
    "# These methods correspond to new, open, and save buttons in the window.\n",
    "# The new_note method calls the NoteForm class to create a new note form top level window.\n",
    "\n",
    "class MainWindow(tk.Tk):\n",
    "    def __init__(self): #initialize the main window\n",
    "        super().__init__() # initialize it as a tkinter window\n",
    "        self.geometry(\"600x400\") # set the default window size\n",
    "        self.title('Notebook') #set the default window title\n",
    "        self.notebook = []  # This is initialized but not utilized in your provided code.\n",
    "        self.notes = []\n",
    "\n",
    "        # Display area for notes\n",
    "        self.notes_frame = tk.Frame(self)\n",
    "        self.notes_frame.pack(fill=tk.BOTH, expand=True)\n",
    "\n",
    "        # Buttons\n",
    "        tk.Button(self, text='New Note', command=self.new_note).pack(side=tk.LEFT)\n",
    "        tk.Button(self, text='Save Notebook', command=self.save_notebook).pack(side=tk.LEFT)\n",
    "        tk.Button(self, text='Open Notebook', command=self.open_notebook).pack(side=tk.LEFT)\n",
    "\n",
    "        # Update Display\n",
    "        self.update_notes_display()\n",
    "\n",
    "    def new_note(self):\n",
    "        note_window = NoteForm(self, self.notebook, self.notes)\n",
    "        note_window.grab_set()\n",
    "\n",
    "    def open_notebook(self):\n",
    "        filepath = filedialog.askopenfilename(filetypes=[(\"JSON files\", \"*.json\"), (\"All files\", \"*.*\")])\n",
    "        if filepath:\n",
    "            with open(filepath, 'r') as file:\n",
    "                loaded_notes = json.load(file)\n",
    "                print(loaded_notes) \n",
    "                self.notes.extend([MakeNote(**note) for note in loaded_notes])  # Append loaded notes to existing list\n",
    "            self.update_notes_display()  # Update display\n",
    "\n",
    "    def save_notebook(self):\n",
    "        filepath = filedialog.asksaveasfilename(defaultextension=\".json\", filetypes=[(\"JSON files\", \"*.json\"), (\"All files\", \"*.*\")])\n",
    "        if filepath:\n",
    "            with open(filepath, 'w') as file:\n",
    "                json.dump([note.to_dict() for note in self.notes], file)  # save to file\n",
    "\n",
    "    def update_notes_display(self):\n",
    "        for widget in self.notes_frame.winfo_children(): # Clear Display *\n",
    "            widget.destroy()\n",
    "        for note in self.notes:\n",
    "            tk.Label(self.notes_frame, text=note.title if note.title else \"Untitled Note\").pack()\n",
    "\n",
    "# the NoteForm() class creates a Toplevel window that is a note form containing fields for\n",
    "# data entry for title, text, link, and tags. It also calculates a meta field with date, time, and timezone\n",
    "# the Noteform class has an __init__() method, and a submit() method that is called by a submit button\n",
    "# the class may contain additional methods to perform tasks like calculating the metadata, for example\n",
    "# the submit method calls the MakeNote class that transforms the the entered data into a new note object.\n",
    "\n",
    "class NoteForm(tk.Toplevel):\n",
    "    def __init__(self, master, notebook, notes): # initialize the new object\n",
    "        super().__init__(master) # initialize it as a toplevel window\n",
    "        self.master = master\n",
    "        self.notebook = notebook  # Not in use\n",
    "        self.notes = notes  \n",
    "\n",
    "        self.geometry(\"400x300\")\n",
    "        self.title(\"New Note\")\n",
    "\n",
    "        # Creating form fields\n",
    "        tk.Label(self, text=\"Title:\").pack()\n",
    "        self.title_entry = tk.Entry(self)\n",
    "        self.title_entry.pack()\n",
    "\n",
    "        tk.Label(self, text=\"Text:\").pack()\n",
    "        self.text_entry = tk.Text(self, height=10)\n",
    "        self.text_entry.pack()\n",
    "\n",
    "        tk.Button(self, text=\"Submit\", command=self.submit).pack()\n",
    "\n",
    "    def submit(self):\n",
    "        note_dict = {\n",
    "            \"title\": self.title_entry.get(),\n",
    "            \"text\": self.text_entry.get(\"1.0\", tk.END).strip(),\n",
    "            \"created_at\": datetime.datetime.now().isoformat()\n",
    "        }\n",
    "        new_note = MakeNote(**note_dict)  \n",
    "        self.notes.append(new_note)  \n",
    "        self.master.update_notes_display()  # Call to update the display\n",
    "        self.destroy()\n",
    "\n",
    "# The MakeNote class takes a dictionary containing the data entered into the form window,\n",
    "# and transforms it into a new note object.\n",
    "# At present the note objects have attributes but no methods.\n",
    "\n",
    "class MakeNote:\n",
    "    def __init__(self, title, text, created_at):\n",
    "        self.title = title\n",
    "        self.text = text\n",
    "        self.created_at = created_at\n",
    "\n",
    "    def to_dict(self):\n",
    "        return {\n",
    "            \"title\": self.title,\n",
    "            \"text\": self.text,\n",
    "            \"created_at\": self.created_at\n",
    "        }\n",
    "\n",
    "if __name__ == '__main__':\n",
    "    main_window = MainWindow() # this creates a notebook / main window called main_window. You may change the name if you want\n",
    "    main_window.mainloop()"
   ]
  },
  {
   "cell_type": "code",
   "execution_count": null,
   "id": "7aae4c1f-c23e-448f-8052-52a937bae202",
   "metadata": {},
   "outputs": [],
   "source": []
  }
 ],
 "metadata": {
  "kernelspec": {
   "display_name": "Python 3 (ipykernel)",
   "language": "python",
   "name": "python3"
  },
  "language_info": {
   "codemirror_mode": {
    "name": "ipython",
    "version": 3
   },
   "file_extension": ".py",
   "mimetype": "text/x-python",
   "name": "python",
   "nbconvert_exporter": "python",
   "pygments_lexer": "ipython3",
   "version": "3.11.7"
  }
 },
 "nbformat": 4,
 "nbformat_minor": 5
}
